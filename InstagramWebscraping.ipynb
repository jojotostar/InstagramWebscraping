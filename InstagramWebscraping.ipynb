{
 "cells": [
  {
   "cell_type": "markdown",
   "metadata": {},
   "source": [
    "## Import"
   ]
  },
  {
   "cell_type": "markdown",
   "metadata": {},
   "source": [
    "First of all, we need to have all required imports. I used Python version 3.10.0  which worked importing. "
   ]
  },
  {
   "cell_type": "code",
   "execution_count": 1,
   "metadata": {},
   "outputs": [],
   "source": [
    "import numpy as np\n",
    "import pandas as pd \n",
    "from selenium import webdriver\n",
    "from selenium.webdriver.chrome.options import Options\n",
    "from time import sleep\n",
    "import time"
   ]
  },
  {
   "cell_type": "markdown",
   "metadata": {},
   "source": [
    "# Web Scraping"
   ]
  },
  {
   "cell_type": "code",
   "execution_count": null,
   "metadata": {},
   "outputs": [],
   "source": [
    "PathName = #Pathname for webdriver\n",
    "browser = webdriver.Chrome('PathName')"
   ]
  },
  {
   "cell_type": "code",
   "execution_count": null,
   "metadata": {},
   "outputs": [],
   "source": [
    "url = 'https://www.instagram.com/'\n",
    "browser.get(url)"
   ]
  },
  {
   "cell_type": "code",
   "execution_count": null,
   "metadata": {},
   "outputs": [],
   "source": [
    "sleep(1.20)\n",
    "\n",
    "elem_username = browser.find_element_by_class_name('f0n8F ')\n",
    "elem_username.send_keys('Username')\n",
    "\n",
    "sleep(1)\n",
    "elem_username = browser.find_element_by_name('password')\n",
    "elem_username.send_keys('Password')\n",
    "\n",
    "sleep(3)\n",
    "elem_login_btn = browser.find_element_by_xpath('//*[@id=\"loginForm\"]/div/div[3]/button')\n",
    "elem_login_btn.click()\n",
    "\n",
    "# \n",
    "sleep(3)\n",
    "elem_login_btn = browser.find_element_by_class_name('_6q-tv')\n",
    "elem_login_btn.click()\n",
    "\n",
    "sleep(3)\n",
    "elem_login_btn = browser.find_element_by_class_name('-qQT3')\n",
    "elem_login_btn.click()\n",
    "\n",
    "sleep(3)\n",
    "elem_login_btn = browser.find_element_by_xpath('//*[@id=\"react-root\"]/section/main/div/header/section/ul/li[3]/a')\n",
    "elem_login_btn.click()"
   ]
  },
  {
   "cell_type": "code",
   "execution_count": null,
   "metadata": {},
   "outputs": [],
   "source": [
    "# Need to scrow down all the pages to get information\n",
    "\n",
    "# browser.execute_script(\"window.scrollTo(0, document.body.scrollHeight);\")"
   ]
  },
  {
   "cell_type": "code",
   "execution_count": null,
   "metadata": {},
   "outputs": [],
   "source": [
    "# Get following with tag name as text and erase 50 top cuz it's not insta id\n",
    "# erase '' empty string\n",
    "element_td = browser.find_elements_by_tag_name('a')\n",
    "values = []\n",
    "for elements_td in element_td:\n",
    "    key = elements_td.text\n",
    "    values.append(key)\n",
    "\n",
    "following = values[50:]\n",
    "for numbers in following:\n",
    "    if(numbers == ''):\n",
    "        following.remove(numbers)\n",
    "\n",
    "# print(values)"
   ]
  },
  {
   "cell_type": "code",
   "execution_count": null,
   "metadata": {},
   "outputs": [],
   "source": [
    "elem_calcel = browser.find_element_by_class_name('WaOAr')\n",
    "elem_calcel.click()\n",
    "\n",
    "time(1.5)\n",
    "elem_login_btn = browser.find_element_by_xpath('//*[@id=\"react-root\"]/section/main/div/ul/li[2]/a/span')\n",
    "elem_login_btn.click()"
   ]
  },
  {
   "cell_type": "code",
   "execution_count": null,
   "metadata": {},
   "outputs": [],
   "source": [
    "# Get followers with tag name as text and erase 49 top cuz it's not insta id\n",
    "# erase '' empty string\n",
    "element_followers = browser.find_elements_by_tag_name('a')\n",
    "values = []\n",
    "number_followers = 0\n",
    "for elements_followers in element_followers:\n",
    "    key = elements_followers.text\n",
    "    values.append(key)\n",
    "    number_followers += 1\n",
    "number_followers = number_followers / 2\n",
    "print(f'The number you follow is {number_followers}')\n",
    "\n",
    "followers = values[49:]\n",
    "for numbers in followers:\n",
    "    if(numbers == ''):\n",
    "        followers.remove(numbers)\n",
    "\n",
    "print(followers)"
   ]
  },
  {
   "cell_type": "code",
   "execution_count": null,
   "metadata": {},
   "outputs": [],
   "source": [
    "mutual = []\n",
    "NotFollower = []\n",
    "NotFollowing = []\n",
    "\n",
    "for nameFollowing in following:\n",
    "    for nameFollower in followers:\n",
    "        if(nameFollowing == nameFollower):\n",
    "            mutual.append(nameFollower)\n",
    "            break\n",
    "    if(nameFollowing != nameFollower):\n",
    "        NotFollower.append(nameFollowing)\n",
    "        \n",
    "        \n",
    "for nameFollower in followers:\n",
    "    for nameFollowing in following:\n",
    "        if(nameFollowing == nameFollower):\n",
    "            break\n",
    "    if(nameFollowing != nameFollower):\n",
    "        NotFollowing.append(nameFollower)"
   ]
  },
  {
   "cell_type": "code",
   "execution_count": null,
   "metadata": {},
   "outputs": [],
   "source": [
    "inside ={'Following': following, \n",
    "        'Followers': followers, \n",
    "        \"Mutual \": mutual, \n",
    "        'Not Follower': NotFollower, \n",
    "        'Not following': NotFollowing}\n",
    "\n",
    "df = pd.DataFrame.from_dict(inside, orient='index')\n",
    "df = df.transpose()\n",
    "df.to_csv('instagram.csv', index=False)\n",
    "print(\"Your File was successfully saved!\")"
   ]
  },
  {
   "cell_type": "code",
   "execution_count": null,
   "metadata": {},
   "outputs": [],
   "source": [
    "print('Following : {}'.format(len(following)))\n",
    "print('Followers : {}'.format(len(followers)))\n",
    "print('Mutual    : {}'.format(len(mutual)))\n",
    "print('Not Follower : {}'.format(len(NotFollower)))\n",
    "print('Not Following : {}'.format(len(NotFollowing)))"
   ]
  },
  {
   "cell_type": "code",
   "execution_count": null,
   "metadata": {},
   "outputs": [],
   "source": [
    "# Look up how many followers and following my Not Followers have\n",
    "followers_followers = []\n",
    "followers_following = []\n",
    "for numbers in NotFollower:\n",
    "    if(numbers != '0 Following'):\n",
    "        url = 'https://www.instagram.com/{}/'.format(numbers)\n",
    "        browser.get(url)\n",
    "        btn_followers = browser.find_element_by_xpath('/html/body/div[1]/section/main/div/header/section/ul/li[2]/a')\n",
    "        followers_followers = btn_followers.text\n",
    "        btn_following = browser.find_element_by_xpath('/html/body/div[1]/section/main/div/header/section/ul/li[3]/a')\n",
    "        followers_following = btn_following.text\n",
    "        # print(numbers + \" : \" + followers_followers + \" : \" + followers_following)\n",
    "        # print('{numbers} - {0:2d} : {1:2d} ').format(followers_followers, followers_following)\n",
    "\n",
    "print('The process is finished')\n",
    "    "
   ]
  },
  {
   "cell_type": "code",
   "execution_count": null,
   "metadata": {},
   "outputs": [],
   "source": [
    "inside ={\n",
    "        'Not Follower': NotFollower, \n",
    "        'Followers Folllowers' : followers_followers,\n",
    "        'Followers Following ' : followers_following\n",
    "        }\n",
    "\n",
    "df = pd.DataFrame.from_dict(inside, orient='index')\n",
    "df = df.transpose()\n",
    "df.to_csv('instagramNotFollowers.csv', index=False)\n",
    "print(\"Your File was successfully saved!\")"
   ]
  },
  {
   "cell_type": "code",
   "execution_count": null,
   "metadata": {},
   "outputs": [],
   "source": []
  }
 ],
 "metadata": {
  "interpreter": {
   "hash": "40d3a090f54c6569ab1632332b64b2c03c39dcf918b08424e98f38b5ae0af88f"
  },
  "kernelspec": {
   "display_name": "Python 3.8.5 64-bit ('base': conda)",
   "language": "python",
   "name": "python3"
  },
  "language_info": {
   "codemirror_mode": {
    "name": "ipython",
    "version": 3
   },
   "file_extension": ".py",
   "mimetype": "text/x-python",
   "name": "python",
   "nbconvert_exporter": "python",
   "pygments_lexer": "ipython3",
   "version": "3.10.0"
  },
  "orig_nbformat": 4
 },
 "nbformat": 4,
 "nbformat_minor": 2
}
